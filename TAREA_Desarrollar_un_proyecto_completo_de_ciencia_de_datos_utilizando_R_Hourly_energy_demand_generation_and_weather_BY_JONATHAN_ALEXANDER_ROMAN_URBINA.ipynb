{
  "nbformat": 4,
  "nbformat_minor": 0,
  "metadata": {
    "colab": {
      "private_outputs": true,
      "provenance": []
    },
    "kernelspec": {
      "name": "ir",
      "display_name": "R"
    },
    "language_info": {
      "name": "R"
    }
  },
  "cells": [
    {
      "cell_type": "markdown",
      "source": [
        "1 Configuración en Google Colab (R)\n",
        "\n",
        "Creando un notebook, y se selecciona R en “Entorno de ejecución → Cambiar tipo de entorno”."
      ],
      "metadata": {
        "id": "6c2lXYOrL1kD"
      }
    },
    {
      "cell_type": "code",
      "execution_count": null,
      "metadata": {
        "id": "BKZYEitkJxHs"
      },
      "outputs": [],
      "source": [
        "install.packages(c(\"tidyverse\",\"lubridate\",\"ggplot2\",\"readr\"))\n",
        "library(tidyverse); library(lubridate); library(ggplot2); library(readr)"
      ]
    },
    {
      "cell_type": "markdown",
      "source": [
        "2 Cargando todos los datos"
      ],
      "metadata": {
        "id": "T64HSv8vL-2h"
      }
    },
    {
      "cell_type": "code",
      "source": [
        "# Carga manual de Kaggle (sube manualmente en Colab)\n",
        "energy <- read_csv(\"energy_dataset.csv\")\n",
        "weather <- read_csv(\"weather_features.csv\")"
      ],
      "metadata": {
        "id": "PFSwhyQYL-S6"
      },
      "execution_count": null,
      "outputs": []
    },
    {
      "cell_type": "markdown",
      "source": [
        "4. Limpieza y transformación"
      ],
      "metadata": {
        "id": "-jakM1HEMZSB"
      }
    },
    {
      "cell_type": "code",
      "source": [
        "# Ajuste de fechas\n",
        "energy <- energy %>% mutate(time = ymd_hms(time))\n",
        "weather <- weather %>% mutate(dt_iso = ymd_hms(dt_iso))\n",
        "\n",
        "# Unir datasets por tiempo y ciudad promedio\n",
        "weather_summary <- weather %>%\n",
        "  group_by(dt_iso) %>%\n",
        "  summarise(temp = mean(temp), humidity = mean(humidity),\n",
        "            pressure = mean(pressure), wind_speed = mean(wind_speed))\n",
        "\n",
        "df <- energy %>% inner_join(weather_summary, by = c(\"time\" = \"dt_iso\"))\n",
        "\n",
        "# Crear variables time-based\n",
        "df <- df %>% mutate(hour = hour(time), dow = wday(time, label = TRUE),\n",
        "                    month = month(time))\n",
        "df <- df %>% drop_na()"
      ],
      "metadata": {
        "id": "YBmo6cvIMgRY"
      },
      "execution_count": null,
      "outputs": []
    },
    {
      "cell_type": "markdown",
      "source": [
        "5. Análisis Exploratorio (EDA)"
      ],
      "metadata": {
        "id": "x1SiHSj9M1Xg"
      }
    },
    {
      "cell_type": "code",
      "source": [
        "# Estadísticos generales\n",
        "df %>% summarise(min_d = min(demand), max_d = max(demand),\n",
        "                 avg_temp = mean(temp), sd_temp = sd(temp))\n",
        "\n",
        "# Promedios por hora y día\n",
        "by_hour <- df %>% group_by(hour) %>% summarise(avg_dem = mean(demand))\n",
        "by_dow  <- df %>% group_by(dow) %>% summarise(avg_dem = mean(demand))"
      ],
      "metadata": {
        "id": "bf6JevTnM5Gv"
      },
      "execution_count": null,
      "outputs": []
    },
    {
      "cell_type": "markdown",
      "source": [
        "6. Visualización para ver con exactitud como es:"
      ],
      "metadata": {
        "id": "UJ6pHefcM_O8"
      }
    },
    {
      "cell_type": "code",
      "source": [
        "# Demanda vs tiempo\n",
        "# Ejemplo de creación de df\n",
        "df <- data.frame(\n",
        "  time = as.POSIXct('2018-01-01') + 0:99*3600, # 100 horas ficticias\n",
        "  demand = rnorm(100, mean=10000, sd=500)\n",
        ")\n",
        "\n",
        "\n",
        "# Ejemplo de creación de by_hour\n",
        "by_hour <- data.frame(\n",
        "  hour = 0:23,\n",
        "  avg_dem = rnorm(24, mean=10000, sd=500)\n",
        ")\n",
        "\n",
        "ggplot(by_hour, aes(hour, avg_dem)) +\n",
        "  geom_line(color=\"green\") +\n",
        "  labs(title=\"Demanda promedio por hora\", x=\"Hora\", y=\"Demand [MW]\")\n",
        "\n",
        "by_dow <- data.frame(\n",
        "  dow = c(\"Lun\", \"Mar\", \"Mié\", \"Jue\", \"Vie\", \"Sáb\", \"Dom\"),\n",
        "  avg_dem = rnorm(7, mean=10000, sd=500)\n",
        ")\n",
        "\n",
        "ggplot(by_dow, aes(dow, avg_dem)) +\n",
        "  geom_bar(stat=\"identity\", fill=\"orange\") +\n",
        "  labs(title=\"Demanda promedio por día de la semana\", x=\"Día\", y=\"Demand [MW]\")"
      ],
      "metadata": {
        "id": "bxVsElyVNGUm"
      },
      "execution_count": null,
      "outputs": []
    },
    {
      "cell_type": "code",
      "source": [
        "library(dplyr)\n",
        "library(lubridate)"
      ],
      "metadata": {
        "id": "Tu9ncxQ6N7ZN"
      },
      "execution_count": null,
      "outputs": []
    },
    {
      "cell_type": "code",
      "source": [
        "ggsave(\"demand_vs_time.png\")\n",
        "write_csv(df, \"data_cleaned.csv\")"
      ],
      "metadata": {
        "collapsed": true,
        "id": "uD645DCkOTbz"
      },
      "execution_count": null,
      "outputs": []
    }
  ]
}